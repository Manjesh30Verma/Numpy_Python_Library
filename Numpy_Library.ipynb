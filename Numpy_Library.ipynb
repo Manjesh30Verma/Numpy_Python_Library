{
 "cells": [
  {
   "cell_type": "markdown",
   "id": "25ae4142",
   "metadata": {},
   "source": [
    "# Numpy Library"
   ]
  },
  {
   "cell_type": "raw",
   "id": "0140cf9c",
   "metadata": {},
   "source": [
    "NumPy arrays are preferred, especially in the fields of data science, numerical computing, and scientific research.\n",
    "\n",
    "--> Reason:\n",
    "\n",
    "NumPy arrays are implemented in C and provide significant performance improvements over Python lists for numerical operations.\n",
    "\n",
    "Operations in numpy arrays can be applied directly to arrays without the need for explicit loops. This leads to more efficient and cleaner code.\n",
    "\n",
    "NumPy supports multidimensional arrays (or tensors), which are essential for various scientific computing tasks.\n",
    "\n",
    "NumPy provides a vast collection of mathematical functions and operations that can be performed on arrays, including linear algebra operations, statistical functions, Fourier transforms, and more.\n",
    "\n",
    "--> Good at handling large datasets.\n",
    "--> Numpy arrays are faster than list.\n",
    "--> Writing code in easy and more intuitive in numpy than list.\n",
    "--> Do data analyst / data scientist work on large datasets?"
   ]
  },
  {
   "cell_type": "code",
   "execution_count": 2,
   "id": "32b118d6",
   "metadata": {},
   "outputs": [],
   "source": [
    "# import numpy library\n",
    "\n",
    "import numpy as np"
   ]
  },
  {
   "cell_type": "code",
   "execution_count": 3,
   "id": "b426f4c7",
   "metadata": {},
   "outputs": [
    {
     "name": "stdout",
     "output_type": "stream",
     "text": [
      "[1 2 3 4 5]\n"
     ]
    }
   ],
   "source": [
    "# creating a numpy array\n",
    "\n",
    "np_array = np.array([1, 2, 3, 4, 5])\n",
    "\n",
    "print(np_array)"
   ]
  },
  {
   "cell_type": "code",
   "execution_count": 4,
   "id": "97ed42d3",
   "metadata": {},
   "outputs": [
    {
     "name": "stdout",
     "output_type": "stream",
     "text": [
      "<class 'numpy.ndarray'>\n"
     ]
    }
   ],
   "source": [
    "print(type(np_array))\n",
    "\n",
    "# numpy.ndarray --> numpy n dimensional array"
   ]
  },
  {
   "cell_type": "code",
   "execution_count": 5,
   "id": "578acf73",
   "metadata": {},
   "outputs": [
    {
     "name": "stdout",
     "output_type": "stream",
     "text": [
      "[1 2 3 4 5]\n",
      "[3 4 5 6 7]\n"
     ]
    }
   ],
   "source": [
    "# add 2 to every element in an array --> [1, 2, 3, 4, 5] --> [3, 4, 5, 6, 7]\n",
    "\n",
    "print(np_array)\n",
    "\n",
    "np_array2 = np_array + 2\n",
    "\n",
    "print(np_array2)"
   ]
  },
  {
   "cell_type": "code",
   "execution_count": 6,
   "id": "285d576a",
   "metadata": {},
   "outputs": [
    {
     "name": "stdout",
     "output_type": "stream",
     "text": [
      "[ 1  9  8  4  5  2  7  3 12]\n"
     ]
    }
   ],
   "source": [
    "# Masking in numpy\n",
    "\n",
    "data = np.array([1, 9, 8, 4, 5, 2, 7, 3, 12])\n",
    "\n",
    "print(data)"
   ]
  },
  {
   "cell_type": "code",
   "execution_count": 8,
   "id": "54bfdce5",
   "metadata": {},
   "outputs": [
    {
     "name": "stdout",
     "output_type": "stream",
     "text": [
      "[False  True  True False False False  True False  True]\n"
     ]
    }
   ],
   "source": [
    "# let's say I want only elements from this above data where the element is greater than 5\n",
    "\n",
    "# creating a mask for this condidion\n",
    "\n",
    "mask = data > 5\n",
    "\n",
    "print(mask)"
   ]
  },
  {
   "cell_type": "code",
   "execution_count": 9,
   "id": "f2a150ea",
   "metadata": {},
   "outputs": [
    {
     "name": "stdout",
     "output_type": "stream",
     "text": [
      "[ 9  8  7 12]\n"
     ]
    }
   ],
   "source": [
    "# use and apply the mask to data\n",
    "\n",
    "filtered_data = data[mask]\n",
    "\n",
    "print(filtered_data)"
   ]
  },
  {
   "cell_type": "markdown",
   "id": "922fc6b0",
   "metadata": {},
   "source": [
    "# Real World Case Study --> Finding NPS of a company"
   ]
  },
  {
   "cell_type": "code",
   "execution_count": null,
   "id": "d09d28fb",
   "metadata": {},
   "outputs": [],
   "source": [
    "# What is NPS? -->> Net Promoter Score\n",
    "\n",
    "# How likely are you going to recommend this product to one of your friends? --> Rate between 1 to 10\n",
    "\n",
    "# To understand the feedback of the user of the product\n",
    "\n",
    "# Ex: How likely are you going to recommend any workshop to one of your friends? --> Rate betwween 1 to 10 -->\n",
    "\n",
    "# Promoters --> rating 9 and 10 --> 60 --> people who will promote your service to others\n",
    "\n",
    "# Demoters --> rating between 1 to 6 --> 20 --> people who will say bad things about your service\n",
    "\n",
    "# Passive --> rating between 7 to 8 --> 20 --> people who are neither happy nor sad with the product\n",
    "\n",
    "# nps --> ((promoters - demoters)/ total_feedback received )*100\n",
    "\n",
    "# nps --> ((60-20)/100)*100 = 40\n",
    "\n",
    "# higher the nps --> better the product || Lower the nps --> bad is the product"
   ]
  },
  {
   "cell_type": "code",
   "execution_count": null,
   "id": "09132aa7",
   "metadata": {},
   "outputs": [],
   "source": [
    "# Dataset link: https://drive.google.com/drive/u/0/home\n",
    "\n",
    "# Find nps of this product"
   ]
  },
  {
   "cell_type": "code",
   "execution_count": null,
   "id": "dec622b2",
   "metadata": {},
   "outputs": [],
   "source": [
    "# Step 1: Download the dataset and load it in a numpy array\n",
    "\n",
    "# downloaded the dataset in the data tab in google collab notebook/ jupyter notebook"
   ]
  },
  {
   "cell_type": "code",
   "execution_count": 18,
   "id": "a60254ff",
   "metadata": {},
   "outputs": [],
   "source": [
    "# loading the dataset into a numpy array\n",
    "\n",
    "scores = np.loadtxt('survey (1).txt')"
   ]
  },
  {
   "cell_type": "code",
   "execution_count": 19,
   "id": "388b8157",
   "metadata": {},
   "outputs": [
    {
     "name": "stdout",
     "output_type": "stream",
     "text": [
      "[ 7. 10.  5. ...  5.  9. 10.]\n"
     ]
    }
   ],
   "source": [
    "# print the dataset\n",
    "\n",
    "print(scores)"
   ]
  },
  {
   "cell_type": "code",
   "execution_count": 20,
   "id": "19894475",
   "metadata": {},
   "outputs": [
    {
     "name": "stdout",
     "output_type": "stream",
     "text": [
      "1\n"
     ]
    }
   ],
   "source": [
    "# check the dataset dimensions\n",
    "\n",
    "print(scores.ndim)"
   ]
  },
  {
   "cell_type": "code",
   "execution_count": 21,
   "id": "42c9a1fc",
   "metadata": {},
   "outputs": [
    {
     "name": "stdout",
     "output_type": "stream",
     "text": [
      "1167\n"
     ]
    }
   ],
   "source": [
    "print(len(scores))\n",
    "\n",
    "# how many reviews are there in this feedback txt file"
   ]
  },
  {
   "cell_type": "code",
   "execution_count": 22,
   "id": "eff18a39",
   "metadata": {},
   "outputs": [
    {
     "name": "stdout",
     "output_type": "stream",
     "text": [
      "[False  True False ... False  True  True]\n"
     ]
    }
   ],
   "source": [
    "# find the promoters\n",
    "\n",
    "# who are promoters? --> people who have given more than 8 rating (> 8)\n",
    "\n",
    "promoter_mask = scores > 8\n",
    "\n",
    "print(promoter_mask)"
   ]
  },
  {
   "cell_type": "code",
   "execution_count": 23,
   "id": "d9a5ea1a",
   "metadata": {},
   "outputs": [
    {
     "name": "stdout",
     "output_type": "stream",
     "text": [
      "[10.  9.  9.  9.  9.  9. 10.  9.  9. 10.  9.  9.  9.  9.  9.  9.  9. 10.\n",
      " 10.  9. 10.  9. 10.  9.  9. 10. 10.  9. 10.  9. 10. 10. 10.  9.  9. 10.\n",
      " 10. 10.  9. 10.  9. 10.  9.  9.  9. 10.  9.  9.  9.  9.  9.  9. 10.  9.\n",
      "  9.  9. 10.  9. 10.  9.  9.  9.  9.  9. 10. 10.  9. 10.  9.  9. 10.  9.\n",
      "  9. 10.  9.  9.  9.  9.  9.  9.  9.  9.  9.  9.  9. 10.  9.  9.  9.  9.\n",
      "  9.  9.  9.  9. 10.  9.  9.  9.  9.  9. 10. 10.  9. 10. 10. 10. 10.  9.\n",
      " 10.  9.  9.  9.  9.  9.  9.  9. 10.  9. 10.  9. 10.  9. 10. 10. 10.  9.\n",
      "  9. 10. 10.  9.  9.  9.  9. 10.  9.  9.  9.  9. 10. 10.  9.  9.  9. 10.\n",
      "  9.  9.  9.  9.  9. 10.  9.  9.  9. 10.  9. 10. 10.  9.  9.  9.  9. 10.\n",
      "  9. 10.  9.  9.  9.  9. 10.  9. 10.  9.  9.  9.  9.  9.  9.  9.  9.  9.\n",
      "  9.  9. 10. 10.  9.  9.  9. 10.  9. 10. 10. 10. 10. 10.  9.  9.  9.  9.\n",
      " 10. 10. 10.  9.  9. 10.  9. 10. 10. 10. 10.  9. 10. 10.  9. 10.  9.  9.\n",
      "  9.  9. 10.  9. 10.  9. 10.  9.  9.  9.  9. 10.  9.  9.  9.  9.  9. 10.\n",
      "  9. 10. 10.  9. 10. 10. 10.  9.  9.  9.  9.  9.  9. 10.  9.  9. 10.  9.\n",
      " 10. 10.  9.  9.  9. 10. 10. 10. 10.  9.  9.  9. 10. 10.  9. 10.  9.  9.\n",
      "  9. 10.  9.  9.  9.  9.  9.  9.  9.  9.  9.  9. 10.  9.  9.  9. 10.  9.\n",
      " 10.  9. 10.  9. 10.  9.  9. 10. 10.  9.  9.  9. 10.  9.  9. 10.  9.  9.\n",
      "  9.  9.  9.  9. 10. 10.  9. 10.  9.  9.  9.  9. 10.  9.  9.  9.  9. 10.\n",
      "  9. 10.  9. 10.  9. 10. 10.  9. 10. 10.  9. 10.  9.  9.  9.  9.  9. 10.\n",
      "  9. 10. 10.  9. 10. 10.  9.  9. 10.  9. 10. 10.  9. 10. 10. 10.  9.  9.\n",
      "  9. 10.  9.  9.  9. 10.  9.  9.  9.  9.  9. 10.  9.  9.  9. 10.  9.  9.\n",
      "  9.  9.  9. 10.  9. 10.  9.  9. 10.  9.  9.  9.  9.  9.  9. 10.  9.  9.\n",
      "  9.  9.  9.  9.  9.  9.  9.  9. 10.  9. 10.  9.  9.  9.  9.  9.  9.  9.\n",
      "  9.  9.  9.  9.  9.  9.  9. 10. 10.  9.  9.  9.  9. 10.  9. 10.  9. 10.\n",
      " 10.  9.  9. 10.  9. 10. 10. 10.  9.  9.  9. 10. 10.  9.  9.  9. 10.  9.\n",
      "  9.  9.  9. 10.  9. 10.  9.  9. 10.  9.  9.  9. 10.  9.  9.  9.  9. 10.\n",
      "  9.  9.  9.  9.  9.  9. 10.  9. 10. 10.  9.  9.  9. 10. 10. 10. 10.  9.\n",
      "  9. 10. 10.  9. 10.  9. 10.  9. 10.  9.  9. 10.  9. 10. 10.  9.  9.  9.\n",
      "  9.  9.  9.  9.  9.  9.  9.  9.  9.  9.  9.  9.  9.  9.  9.  9.  9.  9.\n",
      "  9.  9.  9.  9.  9. 10. 10.  9.  9.  9.  9. 10. 10.  9. 10. 10.  9. 10.\n",
      " 10.  9. 10. 10. 10.  9.  9. 10. 10. 10.  9.  9. 10. 10.  9.  9.  9.  9.\n",
      "  9.  9. 10. 10. 10. 10. 10. 10.  9.  9.  9.  9. 10. 10.  9.  9.  9.  9.\n",
      "  9. 10. 10.  9. 10. 10.  9. 10. 10.  9. 10. 10.  9. 10.  9. 10. 10.  9.\n",
      " 10. 10.  9.  9.  9.  9. 10.  9.  9. 10. 10. 10. 10.  9. 10.]\n"
     ]
    }
   ],
   "source": [
    "# apply the mask\n",
    "\n",
    "promoters = scores[promoter_mask]\n",
    "\n",
    "print(promoters)"
   ]
  },
  {
   "cell_type": "code",
   "execution_count": 24,
   "id": "43d330dc",
   "metadata": {},
   "outputs": [
    {
     "name": "stdout",
     "output_type": "stream",
     "text": [
      "609\n"
     ]
    }
   ],
   "source": [
    "# number of promoters\n",
    "\n",
    "num_promoters = len(promoters)\n",
    "\n",
    "print(num_promoters)"
   ]
  },
  {
   "cell_type": "code",
   "execution_count": 25,
   "id": "5dd8ac3f",
   "metadata": {},
   "outputs": [
    {
     "name": "stdout",
     "output_type": "stream",
     "text": [
      "[False False  True ...  True False False]\n"
     ]
    }
   ],
   "source": [
    "# find the demoters from the dataset\n",
    "\n",
    "# who are demoters --> people who give rating < 7 (1 to 6 -> 6 including) or <=6\n",
    "\n",
    "demoter_mask = scores < 7\n",
    "\n",
    "print(demoter_mask)"
   ]
  },
  {
   "cell_type": "code",
   "execution_count": 26,
   "id": "dbf51ff7",
   "metadata": {},
   "outputs": [
    {
     "name": "stdout",
     "output_type": "stream",
     "text": [
      "[5. 4. 4. 5. 1. 5. 5. 1. 4. 5. 4. 4. 4. 5. 1. 4. 1. 4. 1. 5. 5. 1. 1. 4.\n",
      " 1. 5. 4. 1. 1. 4. 1. 5. 1. 4. 4. 1. 1. 1. 1. 1. 1. 1. 4. 1. 1. 5. 5. 5.\n",
      " 4. 4. 1. 4. 1. 4. 1. 5. 1. 1. 5. 4. 4. 4. 4. 1. 4. 5. 4. 4. 1. 1. 5. 5.\n",
      " 1. 5. 1. 5. 5. 4. 5. 4. 1. 1. 1. 1. 4. 1. 4. 4. 5. 4. 1. 1. 1. 1. 5. 4.\n",
      " 5. 5. 4. 1. 5. 1. 4. 4. 1. 1. 1. 4. 4. 5. 5. 4. 5. 5. 5. 1. 4. 1. 5. 5.\n",
      " 1. 5. 1. 1. 5. 5. 4. 4. 1. 4. 4. 4. 1. 1. 4. 4. 4. 5. 5. 1. 1. 4. 1. 4.\n",
      " 1. 4. 1. 4. 1. 4. 1. 5. 4. 4. 5. 1. 4. 5. 5. 5. 1. 5. 4. 1. 1. 5. 5. 5.\n",
      " 4. 5. 4. 4. 1. 4. 4. 4. 4. 5. 1. 5. 5. 1. 4. 4. 5. 1. 1. 4. 5. 5. 5. 1.\n",
      " 4. 5. 5. 4. 1. 5. 5. 5. 1. 1. 5. 5. 1. 1. 1. 4. 5. 5. 4. 4. 4. 5. 1. 4.\n",
      " 1. 4. 5. 4. 5. 5. 1. 5. 1. 5. 5. 1. 4. 5. 5. 4. 1. 5. 1. 4. 1. 4. 1. 1.\n",
      " 1. 1. 1. 1. 4. 1. 5. 4. 5. 1. 5. 1. 5. 4. 4. 4. 4. 5. 5. 1. 4. 1. 5. 5.\n",
      " 1. 4. 1. 1. 4. 4. 4. 4. 1. 4. 1. 1. 4. 1. 5. 4. 1. 1. 5. 4. 5. 4. 4. 4.\n",
      " 1. 5. 5. 1. 4. 5. 4. 4. 4. 1. 4. 1. 4. 4. 4. 5. 1. 1. 1. 4. 5. 5. 1. 5.\n",
      " 4. 5. 5. 4. 1. 1. 5. 5. 5. 1. 4. 5. 4. 5. 5. 5. 1. 4. 1. 5.]\n"
     ]
    }
   ],
   "source": [
    "# apply the mask\n",
    "\n",
    "demoters = scores[demoter_mask]\n",
    "\n",
    "print(demoters)"
   ]
  },
  {
   "cell_type": "code",
   "execution_count": 27,
   "id": "fa28407f",
   "metadata": {},
   "outputs": [
    {
     "name": "stdout",
     "output_type": "stream",
     "text": [
      "332\n"
     ]
    }
   ],
   "source": [
    "# number of demoters\n",
    "\n",
    "num_demoters = len(demoters)\n",
    "\n",
    "print(num_demoters)"
   ]
  },
  {
   "cell_type": "code",
   "execution_count": 28,
   "id": "bd23dae1",
   "metadata": {},
   "outputs": [
    {
     "name": "stdout",
     "output_type": "stream",
     "text": [
      "1167\n"
     ]
    }
   ],
   "source": [
    "total_reviews = len(scores)\n",
    "\n",
    "print(total_reviews)"
   ]
  },
  {
   "cell_type": "code",
   "execution_count": 29,
   "id": "33ced045",
   "metadata": {},
   "outputs": [
    {
     "name": "stdout",
     "output_type": "stream",
     "text": [
      "23.736075407026565\n"
     ]
    }
   ],
   "source": [
    "# calculate the Nps\n",
    "\n",
    "Nps = ((num_promoters - num_demoters)/total_reviews)*100\n",
    "\n",
    "print(Nps)"
   ]
  }
 ],
 "metadata": {
  "kernelspec": {
   "display_name": "Python 3 (ipykernel)",
   "language": "python",
   "name": "python3"
  },
  "language_info": {
   "codemirror_mode": {
    "name": "ipython",
    "version": 3
   },
   "file_extension": ".py",
   "mimetype": "text/x-python",
   "name": "python",
   "nbconvert_exporter": "python",
   "pygments_lexer": "ipython3",
   "version": "3.11.5"
  },
  "varInspector": {
   "cols": {
    "lenName": 16,
    "lenType": 16,
    "lenVar": 40
   },
   "kernels_config": {
    "python": {
     "delete_cmd_postfix": "",
     "delete_cmd_prefix": "del ",
     "library": "var_list.py",
     "varRefreshCmd": "print(var_dic_list())"
    },
    "r": {
     "delete_cmd_postfix": ") ",
     "delete_cmd_prefix": "rm(",
     "library": "var_list.r",
     "varRefreshCmd": "cat(var_dic_list()) "
    }
   },
   "types_to_exclude": [
    "module",
    "function",
    "builtin_function_or_method",
    "instance",
    "_Feature"
   ],
   "window_display": false
  }
 },
 "nbformat": 4,
 "nbformat_minor": 5
}
